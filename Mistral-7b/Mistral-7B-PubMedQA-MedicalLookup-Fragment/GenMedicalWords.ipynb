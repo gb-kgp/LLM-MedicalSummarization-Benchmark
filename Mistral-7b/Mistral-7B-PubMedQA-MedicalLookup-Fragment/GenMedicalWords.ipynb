{
 "cells": [
  {
   "cell_type": "code",
   "execution_count": null,
   "metadata": {},
   "outputs": [],
   "source": [
    "'''\n",
    "This script takes the csv files  and filters out the words which are not present in UMLS.\n",
    "'''\n",
    "\n",
    "import argparse\n",
    "from quickumls import QuickUMLS\n",
    "import pandas as pd\n",
    "import glob\n",
    "\n",
    "\n",
    "umls_path = '/Users/gunjanbalde/Documents/QuickUMLS_Files/'\n",
    "matcher = QuickUMLS(umls_path,similarity_name='cosine',threshold=0.95) "
   ]
  },
  {
   "cell_type": "code",
   "execution_count": null,
   "metadata": {},
   "outputs": [],
   "source": [
    "from collections import defaultdict\n",
    "counter_PAC = defaultdict(int)\n",
    "for csv_path in ['../../../../TxtInputFiles/PAC_input.txt']:\n",
    "\n",
    "    print(f'Starting for {csv_path}.....')\n",
    "    lines_PAC = open(csv_path).readlines()\n",
    "\n",
    "    for idx,abs in enumerate(lines_PAC):\n",
    "        if idx%100 == 0: print(f'Processed till {idx+1}... {len(counter_PAC)} are considered till now.')\n",
    "\n",
    "        flag = 0\n",
    "        d = matcher.match(abs, best_match=True, ignore_syntax=False)\n",
    "        if len(d) == 0:\n",
    "            continue\n",
    "        \n",
    "        else:\n",
    "            for l in d:\n",
    "                counter_PAC[l[0]['ngram']] += 1\n",
    "                \n",
    "    if idx%10000 == 0: print(f'Processed till {idx+1}... {len(counter_PAC)} are considered till now.')\n",
    "\n",
    "    # df.to_csv('./%sWithConsiderFlag_AllSemTypes.csv'%csv_path.split('/')[-1][:-4],index=False)"
   ]
  },
  {
   "cell_type": "code",
   "execution_count": null,
   "metadata": {},
   "outputs": [],
   "source": [
    "import pandas as pd\n",
    "\n",
    "list_tokens = list(counter_PAC.keys())\n",
    "val_tokens = list(counter_PAC.values())\n"
   ]
  },
  {
   "cell_type": "code",
   "execution_count": null,
   "metadata": {},
   "outputs": [],
   "source": [
    "df = pd.DataFrame({'Tokens':list_tokens,'Count':val_tokens})\n",
    "df.to_csv('PAC_Tokens.csv',index=False)"
   ]
  },
  {
   "cell_type": "code",
   "execution_count": null,
   "metadata": {},
   "outputs": [],
   "source": [
    "import numpy as np\n",
    "np.percentile(val_tokens,[0,10,25,50,75,90,95,90,100])"
   ]
  },
  {
   "cell_type": "code",
   "execution_count": null,
   "metadata": {},
   "outputs": [],
   "source": [
    "from collections import defaultdict\n",
    "import json\n",
    "counter_PAC = defaultdict(int)\n",
    "for csv_path in ['./pubmedqa/data/pqal_fold0/train_set.json']:\n",
    "\n",
    "    print(f'Starting for {csv_path}.....')\n",
    "    lines_PAC = json.loads(open(csv_path).read())\n",
    "    \n",
    "    lines_PAC = [' '.join(lines_PAC[x]['CONTEXTS']) for x in lines_PAC]\n",
    "\n",
    "    for idx,abs in enumerate(lines_PAC):\n",
    "        if idx%100 == 0: print(f'Processed till {idx+1}... {len(counter_PAC)} are considered till now.')\n",
    "\n",
    "        flag = 0\n",
    "        d = matcher.match(abs, best_match=True, ignore_syntax=False)\n",
    "        if len(d) == 0:\n",
    "            continue\n",
    "        \n",
    "        else:\n",
    "            for l in d:\n",
    "                counter_PAC[l[0]['ngram']] += 1\n",
    "                \n",
    "    if idx%100 == 0: print(f'Processed till {idx+1}... {len(counter_PAC)} are considered till now.')\n",
    "\n",
    "    # df.to_csv('./%sWithConsiderFlag_AllSemTypes.csv'%csv_path.split('/')[-1][:-4],index=False)"
   ]
  },
  {
   "cell_type": "code",
   "execution_count": null,
   "metadata": {},
   "outputs": [],
   "source": [
    "import pandas as pd\n",
    "\n",
    "list_tokens = list(counter_PAC.keys())\n",
    "val_tokens = list(counter_PAC.values())\n",
    "\n",
    "df = pd.DataFrame({'Tokens':list_tokens,'Count':val_tokens})\n",
    "df.to_csv('PubMedQA_Tokens.csv',index=False)"
   ]
  },
  {
   "cell_type": "code",
   "execution_count": 1,
   "metadata": {},
   "outputs": [
    {
     "data": {
      "text/html": [
       "<div>\n",
       "<style scoped>\n",
       "    .dataframe tbody tr th:only-of-type {\n",
       "        vertical-align: middle;\n",
       "    }\n",
       "\n",
       "    .dataframe tbody tr th {\n",
       "        vertical-align: top;\n",
       "    }\n",
       "\n",
       "    .dataframe thead th {\n",
       "        text-align: right;\n",
       "    }\n",
       "</style>\n",
       "<table border=\"1\" class=\"dataframe\">\n",
       "  <thead>\n",
       "    <tr style=\"text-align: right;\">\n",
       "      <th></th>\n",
       "      <th>Tokens</th>\n",
       "      <th>Count</th>\n",
       "    </tr>\n",
       "  </thead>\n",
       "  <tbody>\n",
       "    <tr>\n",
       "      <th>0</th>\n",
       "      <td>white blood cell count</td>\n",
       "      <td>2</td>\n",
       "    </tr>\n",
       "    <tr>\n",
       "      <th>1</th>\n",
       "      <td>maternal infection</td>\n",
       "      <td>1</td>\n",
       "    </tr>\n",
       "    <tr>\n",
       "      <th>2</th>\n",
       "      <td>chorioamnionitis</td>\n",
       "      <td>5</td>\n",
       "    </tr>\n",
       "    <tr>\n",
       "      <th>3</th>\n",
       "      <td>medical records</td>\n",
       "      <td>7</td>\n",
       "    </tr>\n",
       "    <tr>\n",
       "      <th>4</th>\n",
       "      <td>retrospective</td>\n",
       "      <td>31</td>\n",
       "    </tr>\n",
       "    <tr>\n",
       "      <th>...</th>\n",
       "      <td>...</td>\n",
       "      <td>...</td>\n",
       "    </tr>\n",
       "    <tr>\n",
       "      <th>6664</th>\n",
       "      <td>Tumor size</td>\n",
       "      <td>1</td>\n",
       "    </tr>\n",
       "    <tr>\n",
       "      <th>6665</th>\n",
       "      <td>prognoses</td>\n",
       "      <td>1</td>\n",
       "    </tr>\n",
       "    <tr>\n",
       "      <th>6666</th>\n",
       "      <td>Korean</td>\n",
       "      <td>5</td>\n",
       "    </tr>\n",
       "    <tr>\n",
       "      <th>6667</th>\n",
       "      <td>DSS</td>\n",
       "      <td>3</td>\n",
       "    </tr>\n",
       "    <tr>\n",
       "      <th>6668</th>\n",
       "      <td>MTG</td>\n",
       "      <td>2</td>\n",
       "    </tr>\n",
       "  </tbody>\n",
       "</table>\n",
       "<p>6669 rows × 2 columns</p>\n",
       "</div>"
      ],
      "text/plain": [
       "                      Tokens  Count\n",
       "0     white blood cell count      2\n",
       "1         maternal infection      1\n",
       "2           chorioamnionitis      5\n",
       "3            medical records      7\n",
       "4              retrospective     31\n",
       "...                      ...    ...\n",
       "6664              Tumor size      1\n",
       "6665               prognoses      1\n",
       "6666                  Korean      5\n",
       "6667                     DSS      3\n",
       "6668                     MTG      2\n",
       "\n",
       "[6669 rows x 2 columns]"
      ]
     },
     "execution_count": 1,
     "metadata": {},
     "output_type": "execute_result"
    }
   ],
   "source": [
    "import pandas as pd\n",
    "df_PAC = pd.read_csv('PAC_Tokens.csv')\n",
    "df_BioASQ = pd.read_csv('PubMedQA_Tokens.csv')\n",
    "\n",
    "df_BioASQ"
   ]
  },
  {
   "cell_type": "code",
   "execution_count": 2,
   "metadata": {},
   "outputs": [
    {
     "data": {
      "text/plain": [
       "count    6669.000000\n",
       "mean        4.666967\n",
       "std        17.172086\n",
       "min         1.000000\n",
       "25%         1.000000\n",
       "50%         2.000000\n",
       "75%         4.000000\n",
       "max      1038.000000\n",
       "Name: Count, dtype: float64"
      ]
     },
     "execution_count": 2,
     "metadata": {},
     "output_type": "execute_result"
    }
   ],
   "source": [
    "df_BioASQ['Count'].describe()"
   ]
  },
  {
   "cell_type": "code",
   "execution_count": 3,
   "metadata": {},
   "outputs": [],
   "source": [
    "from collections import defaultdict\n",
    "tokens_PAC = df_PAC.set_index('Tokens')['Count'].to_dict()\n",
    "tokens_PAC_words = defaultdict(int)\n",
    "\n",
    "tokens_BioASQ = df_BioASQ.set_index('Tokens')['Count'].to_dict()\n",
    "tokens_BioASQ_words = defaultdict(int)\n",
    "\n",
    "import re\n",
    "pattern = r\"^[A-Za-z▁]+$\"\n",
    "\n",
    "for key,val in tokens_PAC.items():\n",
    "    try:\n",
    "      for word in key.split():  \n",
    "        if re.match(pattern,word.strip()):\n",
    "            tokens_PAC_words[word] += val\n",
    "    except: pass\n",
    "  \n",
    "for key,val in tokens_BioASQ.items():\n",
    "    try:\n",
    "      for word in key.split():  \n",
    "        if re.match(pattern,word.strip()):\n",
    "            tokens_BioASQ_words[word] += val\n",
    "    except: pass\n"
   ]
  },
  {
   "cell_type": "code",
   "execution_count": 4,
   "metadata": {},
   "outputs": [
    {
     "name": "stdout",
     "output_type": "stream",
     "text": [
      "                     Word  Count\n",
      "0                Yersinia    387\n",
      "1          enterocolitica    155\n",
      "2           agglutination   1261\n",
      "3                reaction  30928\n",
      "4              rheumatoid   2403\n",
      "...                   ...    ...\n",
      "81111  choledochoduodenal      1\n",
      "81112           mabuterol      3\n",
      "81113              Varroa      1\n",
      "81114           jacobsoni      1\n",
      "81115           anopheles      1\n",
      "\n",
      "[81116 rows x 2 columns]\n",
      "             Word  Count\n",
      "0           white     24\n",
      "1           blood     85\n",
      "2            cell     31\n",
      "3           count     15\n",
      "4        maternal     24\n",
      "...           ...    ...\n",
      "5409  neoadjuvant      1\n",
      "5410    prognoses      1\n",
      "5411       Korean      5\n",
      "5412          DSS      3\n",
      "5413          MTG      2\n",
      "\n",
      "[5414 rows x 2 columns]\n"
     ]
    }
   ],
   "source": [
    "df_tokens_PAC_words = pd.DataFrame(list(tokens_PAC_words.items()), columns=['Word', 'Count'])\n",
    "print(df_tokens_PAC_words)\n",
    "\n",
    "df_BioASQ_words = pd.DataFrame(list(tokens_BioASQ_words.items()), columns=['Word', 'Count'])\n",
    "print(df_BioASQ_words)"
   ]
  },
  {
   "cell_type": "code",
   "execution_count": 5,
   "metadata": {},
   "outputs": [
    {
     "name": "stdout",
     "output_type": "stream",
     "text": [
      "                Word   Count\n",
      "240            cells  406536\n",
      "29          patients  393424\n",
      "262             cell  221685\n",
      "106             less  204305\n",
      "438         activity  184463\n",
      "...              ...     ...\n",
      "37410  Doxifluridine       7\n",
      "37421        Boolean       7\n",
      "37435        Synexin       7\n",
      "37450         Helmet       7\n",
      "37474       kemptide       7\n",
      "\n",
      "[40558 rows x 2 columns]\n",
      "              Word  Count\n",
      "46        patients   1051\n",
      "74           study    417\n",
      "78           group    380\n",
      "104          years    232\n",
      "91     significant    197\n",
      "...            ...    ...\n",
      "2361     universal      2\n",
      "2368      monocyte      2\n",
      "2373  Histological      2\n",
      "2375  subcutaneous      2\n",
      "2377   macrophages      2\n",
      "\n",
      "[2707 rows x 2 columns]\n"
     ]
    }
   ],
   "source": [
    "top_50_percent_PAC = df_tokens_PAC_words.nlargest(int(len(df_tokens_PAC_words) * 0.5), 'Count')\n",
    "top_50_percent_BioASQ = df_BioASQ_words.nlargest(int(len(df_BioASQ_words) * 0.5), 'Count')\n",
    "\n",
    "print(top_50_percent_PAC)\n",
    "print(top_50_percent_BioASQ)"
   ]
  },
  {
   "cell_type": "code",
   "execution_count": 6,
   "metadata": {},
   "outputs": [],
   "source": [
    "from transformers import AutoTokenizer\n",
    "\n",
    "tokenier = AutoTokenizer.from_pretrained('mistralai/Mistral-7B-v0.1')"
   ]
  },
  {
   "cell_type": "code",
   "execution_count": 7,
   "metadata": {},
   "outputs": [],
   "source": [
    "top_50_percent_BioASQ['Splits'] = top_50_percent_BioASQ['Word'].apply(lambda x: len(tokenier.tokenize(x)))\n",
    "top_50_percent_PAC['Splits'] = top_50_percent_PAC['Word'].apply(lambda x: len(tokenier.tokenize(x)))\n"
   ]
  },
  {
   "cell_type": "code",
   "execution_count": 8,
   "metadata": {},
   "outputs": [],
   "source": [
    "top_50_percent_PAC_3 = top_50_percent_PAC[top_50_percent_PAC['Splits'] > 3]\n",
    "top_50_percent_BioASQ_3 = top_50_percent_BioASQ[top_50_percent_BioASQ['Splits'] > 3]\n",
    "\n",
    "lookup_table_3 = top_50_percent_BioASQ_3[top_50_percent_BioASQ_3['Word'].isin(top_50_percent_PAC_3['Word'])]\n",
    "lookup_table_3.to_csv('lookup_table_EBM_SplitMoreThan3.csv',index=False)"
   ]
  },
  {
   "cell_type": "code",
   "execution_count": 9,
   "metadata": {},
   "outputs": [],
   "source": [
    "top_50_percent_PAC_2 = top_50_percent_PAC[top_50_percent_PAC['Splits'] > 2]\n",
    "top_50_percent_BioASQ_2 = top_50_percent_BioASQ[top_50_percent_BioASQ['Splits'] > 2]\n",
    "\n",
    "lookup_table_2 = top_50_percent_BioASQ_2[top_50_percent_BioASQ_2['Word'].isin(top_50_percent_PAC_2['Word'])]\n",
    "lookup_table_2.to_csv('lookup_table_EBM_SplitMoreThan2.csv',index=False)"
   ]
  },
  {
   "cell_type": "code",
   "execution_count": 10,
   "metadata": {},
   "outputs": [],
   "source": [
    "top_50_percent_PAC_1 = top_50_percent_PAC[top_50_percent_PAC['Splits'] > 1]\n",
    "top_50_percent_BioASQ_1 = top_50_percent_BioASQ[top_50_percent_BioASQ['Splits'] > 1]\n",
    "\n",
    "lookup_table_1 = top_50_percent_BioASQ_1[top_50_percent_BioASQ_1['Word'].isin(top_50_percent_PAC_1['Word'])]\n",
    "lookup_table_1.to_csv('PubMedQA_SplitMoreThan1_OOV.csv',index=False)"
   ]
  },
  {
   "cell_type": "code",
   "execution_count": null,
   "metadata": {},
   "outputs": [],
   "source": [
    "import os\n",
    "os.mkdir('./EBM_Lookup_SplitMoreThan3')\n",
    "os.mkdir('./EBM_Lookup_SplitMoreThan2')\n"
   ]
  },
  {
   "cell_type": "code",
   "execution_count": 11,
   "metadata": {},
   "outputs": [],
   "source": [
    "import pandas as pd\n",
    "import os\n",
    "\n",
    "lookup_table_1 = pd.read_csv('./PubMedQA_SplitMoreThan1_OOV.csv')\n",
    "lookup_table_words_1 = lookup_table_1['Word'].to_list()\n",
    "\n",
    "# os.mkdir('./BioASQ_Lookup_SplitMoreThan1_Add')\n",
    "\n",
    "# for i in range(50,501,50):\n",
    "#     print(i)\n",
    "#     dump_words = lookup_table_words_1[:i]#[:i+500]\n",
    "#     with open(f'EBM_Lookup_SplitMoreThan1/EBM_Lookup_{i}.txt','w') as f: #{i+500}.txt','w') as f:\n",
    "#         f.write('\\n'.join([f'''▁{x}\\t{-32000-idx}''' for idx,x in enumerate(dump_words)]))\n",
    "#         f.write('\\n')\n",
    "#     f.close()\n",
    "    \n",
    "# lookup_table_words_2 = lookup_table_2['Word'].to_list()\n",
    "# for i in [50,100,200,500,1000,1500,2000]:\n",
    "#     print(i)\n",
    "#     dump_words = lookup_table_words_2[:i]\n",
    "#     with open(f'EBM_Lookup_SplitMoreThan2/EBM_Lookup_{i}.txt','w') as f: #{i+500}.txt','w') as f:\n",
    "#         f.write('\\n'.join([f'''▁{x}\\t{-32000-idx}''' for idx,x in enumerate(dump_words)]))\n",
    "#         f.write('\\n')\n",
    "#     f.close()\n",
    "\n",
    "# lookup_table_words_3 = lookup_table_3['Word'].to_list()\n",
    "# for i in [50,100,200,500,1000,1500,2000]: \n",
    "#     print(i)\n",
    "#     dump_words = lookup_table_words_3[:i]\n",
    "#     with open(f'EBM_Lookup_SplitMoreThan3/EBM_Lookup_{i}.txt','w') as f: #{i+500}.txt','w') as f:\n",
    "#         f.write('\\n'.join([f'''▁{x}\\t{-32000-idx}''' for idx,x in enumerate(dump_words)]))\n",
    "#         f.write('\\n')\n",
    "#     f.close()"
   ]
  },
  {
   "cell_type": "code",
   "execution_count": 13,
   "metadata": {},
   "outputs": [
    {
     "name": "stdout",
     "output_type": "stream",
     "text": [
      "50 51\n",
      "100 105\n",
      "150 156\n",
      "200 213\n",
      "250 266\n",
      "300 319\n",
      "350 372\n",
      "400 424\n",
      "450 475\n",
      "500 526\n"
     ]
    }
   ],
   "source": [
    "from collections import defaultdict\n",
    "\n",
    "# os.mkdir('./PubMedQA_Lookup_SplitMoreThan1_Also_Add_As_Subwords')\n",
    "\n",
    "\n",
    "for i in range(50,501,50):\n",
    "    dump_words = lookup_table_words_1[:i]\n",
    "    list_words_to_add = defaultdict(list)\n",
    "    for word1 in dump_words:\n",
    "        list_words_to_add[f'▁{word1}'].append(word1)\n",
    "        for word2 in lookup_table_words_1:\n",
    "            if word2.startswith(word1) and word1 != word2:\n",
    "                list_words_to_add[f'▁{word1}'].append(word2)\n",
    "                continue\n",
    "            if word1 != word2 and word1 in word2 and not word2.startswith(word1):\n",
    "                list_words_to_add[word1].append(word2)\n",
    "            \n",
    "    print(i,len(list_words_to_add))\n",
    "    dump_words = list(list_words_to_add.keys()) \n",
    "    with open(f'PubMedQA_Lookup_SplitMoreThan1_Also_Add_As_Subwords/PubMedQA_Lookup_{i}.txt','w') as f: #{i+500}.txt','w') as f:\n",
    "        f.write('\\n'.join([f'''{x}\\t{-32000-idx}''' for idx,x in enumerate(dump_words)]))\n",
    "        f.write('\\n')\n",
    "    f.close()"
   ]
  },
  {
   "cell_type": "code",
   "execution_count": null,
   "metadata": {},
   "outputs": [],
   "source": [
    "list_words_to_add"
   ]
  },
  {
   "cell_type": "code",
   "execution_count": 14,
   "metadata": {},
   "outputs": [
    {
     "data": {
      "image/png": "[encoded data removed]",
      "text/plain": [
       "<Figure size 640x480 with 1 Axes>"
      ]
     },
     "metadata": {},
     "output_type": "display_data"
    }
   ],
   "source": [
    "x = [50,100,150,200,250,300,350,400]\n",
    "y= [2.32,2.15,2.03,1.93,1.83,1.75,1.67,1.6]\n",
    "\n",
    "from matplotlib import pyplot as plt\n",
    "y_r = [round(i,1) for i in y]\n",
    "plt.plot(x,y_r)\n",
    "plt.ylim(1.5,2.3)\n",
    "plt.xlim(50,400)\n",
    "plt.show()"
   ]
  },
  {
   "cell_type": "code",
   "execution_count": null,
   "metadata": {},
   "outputs": [],
   "source": [
    "y_r"
   ]
  },
  {
   "cell_type": "code",
   "execution_count": null,
   "metadata": {},
   "outputs": [],
   "source": []
  }
 ],
 "metadata": {
  "kernelspec": {
   "display_name": "env_transformers",
   "language": "python",
   "name": "python3"
  },
  "language_info": {
   "codemirror_mode": {
    "name": "ipython",
    "version": 3
   },
   "file_extension": ".py",
   "mimetype": "text/x-python",
   "name": "python",
   "nbconvert_exporter": "python",
   "pygments_lexer": "ipython3",
   "version": "3.8.19"
  }
 },
 "nbformat": 4,
 "nbformat_minor": 2
}
