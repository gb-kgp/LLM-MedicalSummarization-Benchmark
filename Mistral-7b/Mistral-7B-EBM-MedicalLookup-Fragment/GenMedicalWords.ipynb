{
 "cells": [
  {
   "cell_type": "code",
   "execution_count": null,
   "metadata": {},
   "outputs": [],
   "source": [
    "'''\n",
    "This script takes the csv files  and filters out the words which are not present in UMLS.\n",
    "'''\n",
    "\n",
    "import argparse\n",
    "from quickumls import QuickUMLS\n",
    "import pandas as pd\n",
    "import glob\n",
    "\n",
    "\n",
    "umls_path = '/path/to/umls'\n",
    "matcher = QuickUMLS(umls_path,similarity_name='cosine',threshold=0.95) "
   ]
  },
  {
   "cell_type": "code",
   "execution_count": null,
   "metadata": {},
   "outputs": [],
   "source": [
    "from collections import defaultdict\n",
    "counter_PAC = defaultdict(int)\n",
    "for csv_path in ['../../../../TxtInputFiles/PAC_input.txt']:\n",
    "\n",
    "    print(f'Starting for {csv_path}.....')\n",
    "    lines_PAC = open(csv_path).readlines()\n",
    "\n",
    "    for idx,abs in enumerate(lines_PAC):\n",
    "        if idx%100 == 0: print(f'Processed till {idx+1}... {len(counter_PAC)} are considered till now.')\n",
    "\n",
    "        flag = 0\n",
    "        d = matcher.match(abs, best_match=True, ignore_syntax=False)\n",
    "        if len(d) == 0:\n",
    "            continue\n",
    "        \n",
    "        else:\n",
    "            for l in d:\n",
    "                counter_PAC[l[0]['ngram']] += 1\n",
    "                \n",
    "    if idx%10000 == 0: print(f'Processed till {idx+1}... {len(counter_PAC)} are considered till now.')\n",
    "\n",
    "    # df.to_csv('./%sWithConsiderFlag_AllSemTypes.csv'%csv_path.split('/')[-1][:-4],index=False)"
   ]
  },
  {
   "cell_type": "code",
   "execution_count": null,
   "metadata": {},
   "outputs": [],
   "source": [
    "import pandas as pd\n",
    "\n",
    "list_tokens = list(counter_PAC.keys())\n",
    "val_tokens = list(counter_PAC.values())\n"
   ]
  },
  {
   "cell_type": "code",
   "execution_count": null,
   "metadata": {},
   "outputs": [],
   "source": [
    "df = pd.DataFrame({'Tokens':list_tokens,'Count':val_tokens})\n",
    "df.to_csv('PAC_Tokens.csv',index=False)"
   ]
  },
  {
   "cell_type": "code",
   "execution_count": null,
   "metadata": {},
   "outputs": [],
   "source": [
    "import numpy as np\n",
    "np.percentile(val_tokens,[0,10,25,50,75,90,95,90,100])"
   ]
  },
  {
   "cell_type": "code",
   "execution_count": null,
   "metadata": {},
   "outputs": [],
   "source": [
    "from collections import defaultdict\n",
    "import json\n",
    "counter_PAC = defaultdict(int)\n",
    "for csv_path in ['./EBM_Train.jsonl']:\n",
    "\n",
    "    print(f'Starting for {csv_path}.....')\n",
    "    lines_PAC = open(csv_path).readlines()\n",
    "    lines_PAC = [json.loads(l)['prompt'] for l in lines_PAC]\n",
    "\n",
    "    for idx,abs in enumerate(lines_PAC):\n",
    "        if idx%100 == 0: print(f'Processed till {idx+1}... {len(counter_PAC)} are considered till now.')\n",
    "\n",
    "        flag = 0\n",
    "        d = matcher.match(abs, best_match=True, ignore_syntax=False)\n",
    "        if len(d) == 0:\n",
    "            continue\n",
    "        \n",
    "        else:\n",
    "            for l in d:\n",
    "                counter_PAC[l[0]['ngram']] += 1\n",
    "                \n",
    "    if idx%100 == 0: print(f'Processed till {idx+1}... {len(counter_PAC)} are considered till now.')\n",
    "\n",
    "    # df.to_csv('./%sWithConsiderFlag_AllSemTypes.csv'%csv_path.split('/')[-1][:-4],index=False)"
   ]
  },
  {
   "cell_type": "code",
   "execution_count": null,
   "metadata": {},
   "outputs": [],
   "source": [
    "import pandas as pd\n",
    "\n",
    "list_tokens = list(counter_PAC.keys())\n",
    "val_tokens = list(counter_PAC.values())\n",
    "\n",
    "df = pd.DataFrame({'Tokens':list_tokens,'Count':val_tokens})\n",
    "df.to_csv('EBM_Tokens.csv',index=False)"
   ]
  },
  {
   "cell_type": "code",
   "execution_count": null,
   "metadata": {},
   "outputs": [],
   "source": [
    "import pandas as pd\n",
    "df_PAC = pd.read_csv('PAC_Tokens.csv')\n",
    "df_BioASQ = pd.read_csv('EBM_Tokens.csv')\n",
    "\n",
    "df_BioASQ"
   ]
  },
  {
   "cell_type": "code",
   "execution_count": null,
   "metadata": {},
   "outputs": [],
   "source": [
    "df_BioASQ['Count'].describe()"
   ]
  },
  {
   "cell_type": "code",
   "execution_count": null,
   "metadata": {},
   "outputs": [],
   "source": [
    "from collections import defaultdict\n",
    "tokens_PAC = df_PAC.set_index('Tokens')['Count'].to_dict()\n",
    "tokens_PAC_words = defaultdict(int)\n",
    "\n",
    "tokens_BioASQ = df_BioASQ.set_index('Tokens')['Count'].to_dict()\n",
    "tokens_BioASQ_words = defaultdict(int)\n",
    "\n",
    "import re\n",
    "pattern = r\"^[A-Za-z▁]+$\"\n",
    "\n",
    "for key,val in tokens_PAC.items():\n",
    "    try:\n",
    "      for word in key.split():  \n",
    "        if re.match(pattern,word.strip()):\n",
    "            tokens_PAC_words[word] += val\n",
    "    except: pass\n",
    "  \n",
    "for key,val in tokens_BioASQ.items():\n",
    "    try:\n",
    "      for word in key.split():  \n",
    "        if re.match(pattern,word.strip()):\n",
    "            tokens_BioASQ_words[word] += val\n",
    "    except: pass\n"
   ]
  },
  {
   "cell_type": "code",
   "execution_count": null,
   "metadata": {},
   "outputs": [],
   "source": [
    "df_tokens_PAC_words = pd.DataFrame(list(tokens_PAC_words.items()), columns=['Word', 'Count'])\n",
    "print(df_tokens_PAC_words)\n",
    "\n",
    "df_BioASQ_words = pd.DataFrame(list(tokens_BioASQ_words.items()), columns=['Word', 'Count'])\n",
    "print(df_BioASQ_words)"
   ]
  },
  {
   "cell_type": "code",
   "execution_count": null,
   "metadata": {},
   "outputs": [],
   "source": [
    "top_50_percent_PAC = df_tokens_PAC_words.nlargest(int(len(df_tokens_PAC_words) * 0.5), 'Count')\n",
    "top_50_percent_BioASQ = df_BioASQ_words.nlargest(int(len(df_BioASQ_words) * 0.5), 'Count')\n",
    "\n",
    "print(top_50_percent_PAC)\n",
    "print(top_50_percent_BioASQ)"
   ]
  },
  {
   "cell_type": "code",
   "execution_count": null,
   "metadata": {},
   "outputs": [],
   "source": [
    "from transformers import AutoTokenizer\n",
    "\n",
    "tokenier = AutoTokenizer.from_pretrained('mistralai/Mistral-7B-v0.1')"
   ]
  },
  {
   "cell_type": "code",
   "execution_count": null,
   "metadata": {},
   "outputs": [],
   "source": [
    "tokenier"
   ]
  },
  {
   "cell_type": "code",
   "execution_count": null,
   "metadata": {},
   "outputs": [],
   "source": [
    "top_50_percent_BioASQ['Splits'] = top_50_percent_BioASQ['Word'].apply(lambda x: len(tokenier.tokenize(x)))\n",
    "top_50_percent_PAC['Splits'] = top_50_percent_PAC['Word'].apply(lambda x: len(tokenier.tokenize(x)))\n"
   ]
  },
  {
   "cell_type": "code",
   "execution_count": null,
   "metadata": {},
   "outputs": [],
   "source": [
    "top_50_percent_PAC_1 = top_50_percent_PAC[top_50_percent_PAC['Splits'] > 1]\n",
    "top_50_percent_BioASQ_1 = top_50_percent_BioASQ[top_50_percent_BioASQ['Splits'] > 1]\n",
    "\n",
    "lookup_table_1 = top_50_percent_BioASQ_1[top_50_percent_BioASQ_1['Word'].isin(top_50_percent_PAC_1['Word'])]\n",
    "lookup_table_1.to_csv('EBM_SplitMoreThan1_OOV.csv',index=False)"
   ]
  },
  {
   "cell_type": "code",
   "execution_count": null,
   "metadata": {},
   "outputs": [],
   "source": [
    "import os\n",
    "os.mkdir('./EBM_Lookup_SplitMoreThan3')\n",
    "os.mkdir('./EBM_Lookup_SplitMoreThan2')\n"
   ]
  },
  {
   "cell_type": "code",
   "execution_count": 1,
   "metadata": {},
   "outputs": [],
   "source": [
    "import pandas as pd\n",
    "import os\n",
    "\n",
    "lookup_table_1 = pd.read_csv('./EBM_SplitMoreThan1_OOV.csv')\n",
    "lookup_table_words_1 = lookup_table_1['Word'].to_list()\n",
    "\n",
    "# os.mkdir('./EBM_Lookup_SplitMoreThan1')\n",
    "\n",
    "# for i in range(50,501,50):\n",
    "#     print(i)\n",
    "#     dump_words = lookup_table_words_1[:i]#[:i+500]\n",
    "#     with open(f'EBM_Lookup_SplitMoreThan1/EBM_Lookup_{i}.txt','w') as f: #{i+500}.txt','w') as f:\n",
    "#         f.write('\\n'.join([f'''▁{x}\\t{-32000-idx}''' for idx,x in enumerate(dump_words)]))\n",
    "#         f.write('\\n')\n",
    "#     f.close()\n",
    "    \n",
    "# lookup_table_words_2 = lookup_table_2['Word'].to_list()\n",
    "# for i in [50,100,200,500,1000,1500,2000]:\n",
    "#     print(i)\n",
    "#     dump_words = lookup_table_words_2[:i]\n",
    "#     with open(f'EBM_Lookup_SplitMoreThan2/EBM_Lookup_{i}.txt','w') as f: #{i+500}.txt','w') as f:\n",
    "#         f.write('\\n'.join([f'''▁{x}\\t{-32000-idx}''' for idx,x in enumerate(dump_words)]))\n",
    "#         f.write('\\n')\n",
    "#     f.close()\n",
    "\n",
    "# lookup_table_words_3 = lookup_table_3['Word'].to_list()\n",
    "# for i in [50,100,200,500,1000,1500,2000]: \n",
    "#     print(i)\n",
    "#     dump_words = lookup_table_words_3[:i]\n",
    "#     with open(f'EBM_Lookup_SplitMoreThan3/EBM_Lookup_{i}.txt','w') as f: #{i+500}.txt','w') as f:\n",
    "#         f.write('\\n'.join([f'''▁{x}\\t{-32000-idx}''' for idx,x in enumerate(dump_words)]))\n",
    "#         f.write('\\n')\n",
    "#     f.close()"
   ]
  },
  {
   "cell_type": "code",
   "execution_count": 3,
   "metadata": {},
   "outputs": [
    {
     "name": "stdout",
     "output_type": "stream",
     "text": [
      "50 60\n",
      "100 118\n",
      "150 173\n",
      "200 228\n",
      "250 280\n",
      "300 335\n",
      "350 388\n",
      "400 440\n",
      "450 493\n",
      "500 546\n"
     ]
    }
   ],
   "source": [
    "from collections import defaultdict\n",
    "import os\n",
    "# os.mkdir('./EBM_Lookup_SplitMoreThan1_Also_Add_As_Subwords')\n",
    "\n",
    "\n",
    "for i in range(50,501,50):\n",
    "    dump_words = lookup_table_words_1[:i]\n",
    "    list_words_to_add = defaultdict(list)\n",
    "    for word1 in dump_words:\n",
    "        list_words_to_add[f'▁{word1}'].append(word1)\n",
    "        for word2 in lookup_table_words_1:\n",
    "            if word2.startswith(word1) and word1 != word2:\n",
    "                list_words_to_add[f'▁{word1}'].append(word2)\n",
    "                continue\n",
    "            if word1 != word2 and word1 in word2 and not word2.startswith(word1):\n",
    "                list_words_to_add[word1].append(word2)\n",
    "            \n",
    "    print(i,len(list_words_to_add))\n",
    "    dump_words = list(list_words_to_add.keys()) \n",
    "    with open(f'EBM_Lookup_SplitMoreThan1_Also_Add_As_Subwords/EBM_Lookup_{i}.txt','w') as f: #{i+500}.txt','w') as f:\n",
    "        f.write('\\n'.join([f'''{x}\\t{-32000-idx}''' for idx,x in enumerate(dump_words)]))\n",
    "        f.write('\\n')\n",
    "    f.close()"
   ]
  },
  {
   "cell_type": "code",
   "execution_count": 6,
   "metadata": {},
   "outputs": [
    {
     "data": {
      "image/png": "[encoded data removed]",
      "text/plain": [
       "<Figure size 640x480 with 1 Axes>"
      ]
     },
     "metadata": {},
     "output_type": "display_data"
    }
   ],
   "source": [
    "x = [50,100,150,200,250,300,350,400]\n",
    "y= [2.4,2.25,2.13,2.02,1.95,1.87,1.8,1.74]\n",
    "\n",
    "from matplotlib import pyplot as plt\n",
    "y_r = [round(i,1) for i in y]\n",
    "plt.plot(x,y_r)\n",
    "plt.ylim(1.6,2.5)\n",
    "plt.xlim(50,400)\n",
    "plt.show()"
   ]
  },
  {
   "cell_type": "code",
   "execution_count": null,
   "metadata": {},
   "outputs": [],
   "source": [
    "y_r"
   ]
  },
  {
   "cell_type": "code",
   "execution_count": null,
   "metadata": {},
   "outputs": [],
   "source": []
  }
 ],
 "metadata": {
  "kernelspec": {
   "display_name": "env_transformers",
   "language": "python",
   "name": "python3"
  },
  "language_info": {
   "codemirror_mode": {
    "name": "ipython",
    "version": 3
   },
   "file_extension": ".py",
   "mimetype": "text/x-python",
   "name": "python",
   "nbconvert_exporter": "python",
   "pygments_lexer": "ipython3",
   "version": "3.8.19"
  }
 },
 "nbformat": 4,
 "nbformat_minor": 2
}
